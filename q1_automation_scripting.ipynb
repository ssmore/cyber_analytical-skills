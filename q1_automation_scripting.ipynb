{
 "cells": [
  {
   "cell_type": "code",
   "execution_count": 3,
   "metadata": {},
   "outputs": [],
   "source": [
    "import slate3k as slate\n",
    "import re\n",
    "import PyPDF2\n",
    "import requests\n",
    "import os\n",
    "import csv\n",
    "import pathlib"
   ]
  },
  {
   "cell_type": "code",
   "execution_count": 4,
   "metadata": {},
   "outputs": [],
   "source": [
    "# Using PyPDF2\n",
    "#able to retrieve hyperlinks for URLs\n",
    "PDFFile = open(\"target.pdf\",'rb')\n",
    "PDF = PyPDF2.PdfFileReader(PDFFile)"
   ]
  },
  {
   "cell_type": "code",
   "execution_count": 5,
   "metadata": {},
   "outputs": [],
   "source": [
    "# Using slate for text  mining\n",
    "# Slate is able to fully extract text compared to PyPDF2\n",
    "with open(\"Target.pdf\",\"rb\") as f:\n",
    "    extracted_text = slate.PDF(f)"
   ]
  },
  {
   "cell_type": "code",
   "execution_count": 6,
   "metadata": {},
   "outputs": [],
   "source": [
    "# API URL and token for IP Info APs\n",
    "api_URL = \"https://ipinfo.io/\"\n",
    "api_token = '5c213747c11f8c'"
   ]
  },
  {
   "cell_type": "code",
   "execution_count": 26,
   "metadata": {},
   "outputs": [],
   "source": [
    "# Convert Dict To CSV and outputs a file at current directory\n",
    "def fromDictToCSV(headings,myDictData):\n",
    "\n",
    "    #remove file if exists\n",
    "    if os.path.exists(\"ipdesc.csv\"):\n",
    "        os.remove(\"ipdesc.csv\")\n",
    "\n",
    "    \n",
    "    myFilePath = os.path.join('ipdesc.csv')\n",
    "    with open(myFilePath,'w+', newline='') as myCSVFile:\n",
    "        csvWriter = csv.DictWriter(myCSVFile, fieldnames=headings, dialect='excel', quoting=csv.QUOTE_NONNUMERIC)\n",
    "        csvWriter.writeheader()\n",
    "        for data in myDictData:\n",
    "            csvWriter.writerow(data)\n",
    "\n",
    "    return"
   ]
  },
  {
   "cell_type": "code",
   "execution_count": 8,
   "metadata": {},
   "outputs": [],
   "source": [
    "# Retrieve ASN by using API calls\n",
    "def retrieveASN(listOfIP):\n",
    "    listOfInfo = []\n",
    "    for ip in listOfIP:\n",
    "        # defining a params dict for the parameters to be sent to the API\n",
    "        PARAMS = {'token':api_token}\n",
    "        r = requests.get(url = api_URL+ip,params = PARAMS)\n",
    "        data = r.json()\n",
    "        listOfInfo.append(data)\n",
    "        \n",
    "    return listOfInfo"
   ]
  },
  {
   "cell_type": "code",
   "execution_count": null,
   "metadata": {},
   "outputs": [],
   "source": []
  },
  {
   "cell_type": "code",
   "execution_count": 9,
   "metadata": {},
   "outputs": [],
   "source": [
    "# Extract URLS from Hyperlinks in PDF Using PyPDF2\n",
    "def getUrlsFromPDF(PDF):\n",
    "    pages = PDF.getNumPages()\n",
    "    key = '/Annots'\n",
    "    uri = '/URI'\n",
    "    ank = '/A'\n",
    "    urls = []\n",
    "    for page in range(pages):\n",
    "\n",
    "        pageSliced = PDF.getPage(page)\n",
    "        pageObject = pageSliced.getObject()\n",
    "        if key in pageObject.keys():\n",
    "            ann = pageObject[key]\n",
    "            for a in ann:\n",
    "                u = a.getObject()\n",
    "                if uri in u[ank].keys():\n",
    "                    urls.append(u[ank][uri])\n",
    "    return urls"
   ]
  },
  {
   "cell_type": "code",
   "execution_count": 11,
   "metadata": {},
   "outputs": [],
   "source": [
    "def getAllIPsAndHashes(extractText):\n",
    "    listOfIP = []\n",
    "    hashes = []\n",
    "    for lines in extracted_text:\n",
    "        # listOfURLs = re.findall(URL_REGEX,lines) + listOfURLs\n",
    "        lines = lines.replace('[','')\n",
    "        lines =lines.replace(']','')\n",
    "        \n",
    "        #Regex for IP address\n",
    "        listOfIP = re.findall( r'[0-9]+(?:\\.[0-9]+){3}', lines) + listOfIP\n",
    "        \n",
    "        #Converting lines to lower cases and using regex to match hashes\n",
    "        hashes = re.findall(r'\\b[0-9a-f]{40}\\b',lines.lower()) + hashes\n",
    "\n",
    "\n",
    "        #print(lines)\n",
    "    return [listOfIP,hashes]"
   ]
  },
  {
   "cell_type": "code",
   "execution_count": 12,
   "metadata": {},
   "outputs": [],
   "source": [
    "listOfIPandHashes = getAllIPsAndHashes(extracted_text)\n",
    "listOfIP = listOfIPandHashes[0]\n",
    "listOfHashes = listOfIPandHashes[1]\n",
    "listOfInfo = retrieveASN(listOfIP)"
   ]
  },
  {
   "cell_type": "code",
   "execution_count": 27,
   "metadata": {},
   "outputs": [],
   "source": [
    "fromDictToCSV(list((listOfInfo[0].keys())),listOfInfo)"
   ]
  }
 ],
 "metadata": {
  "kernelspec": {
   "display_name": "Python 3",
   "language": "python",
   "name": "python3"
  },
  "language_info": {
   "codemirror_mode": {
    "name": "ipython",
    "version": 3
   },
   "file_extension": ".py",
   "mimetype": "text/x-python",
   "name": "python",
   "nbconvert_exporter": "python",
   "pygments_lexer": "ipython3",
   "version": "3.7.6"
  }
 },
 "nbformat": 4,
 "nbformat_minor": 4
}
